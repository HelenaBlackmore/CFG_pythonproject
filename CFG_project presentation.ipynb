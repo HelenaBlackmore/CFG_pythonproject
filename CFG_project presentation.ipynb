{
 "cells": [
  {
   "cell_type": "code",
   "execution_count": 15,
   "metadata": {
    "scrolled": true,
    "slideshow": {
     "slide_type": "skip"
    }
   },
   "outputs": [],
   "source": [
    "def hide_code_in_slideshow():   \n",
    "    from IPython import display\n",
    "    import binascii\n",
    "    import os\n",
    "    uid = binascii.hexlify(os.urandom(8)).decode()    \n",
    "    html = \"\"\"<div id=\"%s\"></div>\n",
    "    <script type=\"text/javascript\">\n",
    "        $(function(){\n",
    "            var p = $(\"#%s\");\n",
    "            if (p.length==0) return;\n",
    "            while (!p.hasClass(\"cell\")) {\n",
    "                p=p.parent();\n",
    "                if (p.prop(\"tagName\") ==\"body\") return;\n",
    "            }\n",
    "            var cell = p;\n",
    "            cell.find(\".input\").addClass(\"hide-in-slideshow\")\n",
    "        });\n",
    "    </script>\"\"\" % (uid, uid)\n",
    "    display.display_html(html, raw=True)"
   ]
  },
  {
   "cell_type": "markdown",
   "metadata": {
    "slideshow": {
     "slide_type": "slide"
    }
   },
   "source": [
    "# CFG PROJECT PRESENTATION\n",
    "<img src=\"cfg_logo.png\" width=\"250\" height=\"250\" align=\"right\"/>\n",
    "\n",
    "\n",
    "\n",
    "\n",
    "### Helena Blackmore\n",
    "#### Group 1"
   ]
  },
  {
   "cell_type": "markdown",
   "metadata": {
    "slideshow": {
     "slide_type": "slide"
    }
   },
   "source": [
    "# SALES\n",
    "\n",
    "\n"
   ]
  },
  {
   "cell_type": "markdown",
   "metadata": {
    "slideshow": {
     "slide_type": "fragment"
    }
   },
   "source": [
    "<img src=\"sales_screenshot.png\" width=\"300\" height=\"300\" align=\"right\"/>\n",
    "<img src=\"project_screenshot.png\" width=\"500\" height=\"500\" align=\"left\"/>"
   ]
  },
  {
   "cell_type": "code",
   "execution_count": 1,
   "metadata": {
    "scrolled": true,
    "slideshow": {
     "slide_type": "subslide"
    }
   },
   "outputs": [],
   "source": [
    "import pandas as pd\n",
    "import csv\n",
    "import numpy\n",
    "import seaborn as sns\n",
    "import matplotlib.pyplot as plt"
   ]
  },
  {
   "cell_type": "code",
   "execution_count": 4,
   "metadata": {
    "scrolled": true,
    "slideshow": {
     "slide_type": "subslide"
    }
   },
   "outputs": [],
   "source": [
    "# reading dataset and creating two lists: months, sales\n",
    "\n",
    "with open('PycharmProjects\\pythonProject\\cfg-project\\sales.csv', 'r') as csv_file:  \n",
    "    spreadsheet = csv.DictReader(csv_file)\n",
    "    sales = []\n",
    "    year = []\n",
    "\n",
    "    \n",
    "    for row in spreadsheet:               #creates a list of sales\n",
    "        sale = int(row['sales'])\n",
    "        month_name = row['month']\n",
    "        \n",
    "        sales.append(sale)\n",
    "        year.append(month_name)"
   ]
  },
  {
   "cell_type": "code",
   "execution_count": 5,
   "metadata": {
    "scrolled": true,
    "slideshow": {
     "slide_type": "subslide"
    }
   },
   "outputs": [
    {
     "name": "stdout",
     "output_type": "stream",
     "text": [
      "the total sales in 12 months were : £45542\n",
      "the highest sales were in jul:£7479\n",
      "the lowest sale were in feb: £1521 \n",
      "the average sale was:£3795.17\n"
     ]
    }
   ],
   "source": [
    "#calculating total,maximum, minimum and mean\n",
    "total=sum(sales)\n",
    "total_months=len(sales)\n",
    "\n",
    "max_sale=max(sales)\n",
    "max_index=sales.index(max_sale)\n",
    "max_month=year[max_index]\n",
    "\n",
    "min_sale=min(sales)\n",
    "min_index=sales.index(min_sale)\n",
    "min_month=year[min_index]\n",
    "\n",
    "mean_sale=round(numpy.mean(sales),2)\n",
    "\n",
    "#printing out all results\n",
    "print(\"the total sales in {} months were : £{}\".format(total_months,total))\n",
    "print(\"the highest sales were in {}:£{}\".format( max_month, max_sale))\n",
    "print(\"the lowest sale were in {}: £{} \".format(min_month,min_sale))\n",
    "print(\"the average sale was:£{}\".format(mean_sale))"
   ]
  },
  {
   "cell_type": "markdown",
   "metadata": {
    "slideshow": {
     "slide_type": "subslide"
    }
   },
   "source": [
    "# Calculating % change \n",
    "\n",
    "- i.e. sales % increase or decrease relative to previous months sales"
   ]
  },
  {
   "cell_type": "markdown",
   "metadata": {
    "slideshow": {
     "slide_type": "fragment"
    }
   },
   "source": [
    "<img src=\"stupid.jpg\" width=\"250\" height=\"250\" align=\"center\"/>"
   ]
  },
  {
   "cell_type": "markdown",
   "metadata": {
    "slideshow": {
     "slide_type": "subslide"
    }
   },
   "source": [
    "# does not work !"
   ]
  },
  {
   "cell_type": "code",
   "execution_count": null,
   "metadata": {
    "scrolled": true,
    "slideshow": {
     "slide_type": "fragment"
    }
   },
   "outputs": [],
   "source": [
    "# # doesn't work\n",
    "        per_change=[]\n",
    "        for row in spreadsheet:               #creates a list of sales\n",
    "          change = (int(row['sales'])/int((row-1)['sales'])-1)\n",
    "          if row==\"jan\":\n",
    "            continue\n",
    "          per_change.append(change)"
   ]
  },
  {
   "cell_type": "code",
   "execution_count": null,
   "metadata": {
    "scrolled": true,
    "slideshow": {
     "slide_type": "fragment"
    }
   },
   "outputs": [],
   "source": [
    "#doesn't work\n",
    "\n",
    "    i=1\n",
    "    per_change=[]\n",
    "\n",
    "    while i<=len(sales):\n",
    "      change= ((int(sales[i])/int(sales[i-1])-1)*100\n",
    "      i=i+1\n",
    "      per_change.append(change)\n",
    "print(per_change)"
   ]
  },
  {
   "cell_type": "markdown",
   "metadata": {
    "slideshow": {
     "slide_type": "subslide"
    }
   },
   "source": [
    "# solution"
   ]
  },
  {
   "cell_type": "code",
   "execution_count": 37,
   "metadata": {
    "scrolled": true,
    "slideshow": {
     "slide_type": "fragment"
    }
   },
   "outputs": [
    {
     "data": {
      "text/html": [
       "<div>\n",
       "<style scoped>\n",
       "    .dataframe tbody tr th:only-of-type {\n",
       "        vertical-align: middle;\n",
       "    }\n",
       "\n",
       "    .dataframe tbody tr th {\n",
       "        vertical-align: top;\n",
       "    }\n",
       "\n",
       "    .dataframe thead th {\n",
       "        text-align: right;\n",
       "    }\n",
       "</style>\n",
       "<table border=\"1\" class=\"dataframe\">\n",
       "  <thead>\n",
       "    <tr style=\"text-align: right;\">\n",
       "      <th></th>\n",
       "      <th>year</th>\n",
       "      <th>month</th>\n",
       "      <th>sales</th>\n",
       "      <th>expenditure</th>\n",
       "      <th>change %</th>\n",
       "    </tr>\n",
       "  </thead>\n",
       "  <tbody>\n",
       "    <tr>\n",
       "      <th>0</th>\n",
       "      <td>2018</td>\n",
       "      <td>jan</td>\n",
       "      <td>6226</td>\n",
       "      <td>3808</td>\n",
       "      <td>NaN</td>\n",
       "    </tr>\n",
       "    <tr>\n",
       "      <th>1</th>\n",
       "      <td>2018</td>\n",
       "      <td>feb</td>\n",
       "      <td>1521</td>\n",
       "      <td>3373</td>\n",
       "      <td>-75.570190</td>\n",
       "    </tr>\n",
       "    <tr>\n",
       "      <th>2</th>\n",
       "      <td>2018</td>\n",
       "      <td>mar</td>\n",
       "      <td>1842</td>\n",
       "      <td>3965</td>\n",
       "      <td>21.104536</td>\n",
       "    </tr>\n",
       "    <tr>\n",
       "      <th>3</th>\n",
       "      <td>2018</td>\n",
       "      <td>apr</td>\n",
       "      <td>2051</td>\n",
       "      <td>1098</td>\n",
       "      <td>11.346363</td>\n",
       "    </tr>\n",
       "    <tr>\n",
       "      <th>4</th>\n",
       "      <td>2018</td>\n",
       "      <td>may</td>\n",
       "      <td>1728</td>\n",
       "      <td>3046</td>\n",
       "      <td>-15.748415</td>\n",
       "    </tr>\n",
       "  </tbody>\n",
       "</table>\n",
       "</div>"
      ],
      "text/plain": [
       "   year month  sales  expenditure   change %\n",
       "0  2018   jan   6226         3808        NaN\n",
       "1  2018   feb   1521         3373 -75.570190\n",
       "2  2018   mar   1842         3965  21.104536\n",
       "3  2018   apr   2051         1098  11.346363\n",
       "4  2018   may   1728         3046 -15.748415"
      ]
     },
     "execution_count": 37,
     "metadata": {},
     "output_type": "execute_result"
    }
   ],
   "source": [
    "df = pd.read_csv('PycharmProjects\\pythonProject\\cfg-project\\sales.csv')\n",
    "\n",
    "#using loc to identify columns and rows to calculate value of a new variable\n",
    "\n",
    "for i in range(1, len(sales)):\n",
    "   df.loc[i, 'change %'] = ((df.loc[i, 'sales'] / df.loc[i-1, 'sales'])-1)*100 \n",
    "\n",
    "df.head() #shows first 5 rows - to check if code worked"
   ]
  },
  {
   "cell_type": "markdown",
   "metadata": {
    "slideshow": {
     "slide_type": "subslide"
    }
   },
   "source": [
    "# let's visualise the data!"
   ]
  },
  {
   "cell_type": "markdown",
   "metadata": {
    "slideshow": {
     "slide_type": "subslide"
    }
   },
   "source": [
    "# sales over the year compared to average sales"
   ]
  },
  {
   "cell_type": "code",
   "execution_count": 35,
   "metadata": {
    "scrolled": true,
    "slideshow": {
     "slide_type": "fragment"
    }
   },
   "outputs": [
    {
     "data": {
      "image/png": "[encoded data removed]",
      "text/plain": [
       "<Figure size 432x288 with 1 Axes>"
      ]
     },
     "metadata": {
      "needs_background": "light"
     },
     "output_type": "display_data"
    }
   ],
   "source": [
    "#sns.set_theme(style=\"whitegrid\")    #runs outside jupyter: issue with seaborn version\n",
    "\n",
    "###### 1. simple barchart:sales and mean sale\n",
    "\n",
    "# simple bar chart of the sales\n",
    "sns.set_color_codes(\"dark\")\n",
    "plot1=sns.barplot(x=\"month\", y=\"sales\", data=df,\n",
    "            label=\"sales\", color=\"g\")\n",
    "plot1.axhline(mean_sale, color=\"r\", linewidth=4) #adds a line: value of a mean sale\n",
    "\n",
    "plt.show()"
   ]
  },
  {
   "cell_type": "markdown",
   "metadata": {
    "slideshow": {
     "slide_type": "subslide"
    }
   },
   "source": [
    "# what about change?"
   ]
  },
  {
   "cell_type": "code",
   "execution_count": 36,
   "metadata": {
    "scrolled": true,
    "slideshow": {
     "slide_type": "fragment"
    }
   },
   "outputs": [
    {
     "data": {
      "image/png": "[encoded data removed]",
      "text/plain": [
       "<Figure size 432x288 with 1 Axes>"
      ]
     },
     "metadata": {
      "needs_background": "light"
     },
     "output_type": "display_data"
    }
   ],
   "source": [
    "sns.set_color_codes(\"dark\")\n",
    "plot1=sns.barplot(x=\"month\", y=\"change %\", data=df,\n",
    "            label=\"change %\", color=\"b\")\n",
    "\n",
    "plt.show()"
   ]
  },
  {
   "cell_type": "markdown",
   "metadata": {
    "slideshow": {
     "slide_type": "subslide"
    }
   },
   "source": [
    "# plot with two y axes:\n",
    "## plotting sales, expenditure and change in sales"
   ]
  },
  {
   "cell_type": "code",
   "execution_count": null,
   "metadata": {
    "slideshow": {
     "slide_type": "fragment"
    }
   },
   "outputs": [],
   "source": [
    "# plotting both sales and expenditure\n",
    "## transforming data fromwide to long\n",
    "df_long=pd.melt(\n",
    "    frame=df,\n",
    "    id_vars=[\"year\",\"month\",\"change %\"],\n",
    "    var_name=\"sales/expenditure\",\n",
    "    value_name=\"amount\" )"
   ]
  },
  {
   "cell_type": "code",
   "execution_count": 13,
   "metadata": {
    "scrolled": true,
    "slideshow": {
     "slide_type": "subslide"
    }
   },
   "outputs": [
    {
     "data": {
      "image/png": "[encoded data removed]",
      "text/plain": [
       "<Figure size 432x288 with 2 Axes>"
      ]
     },
     "metadata": {
      "needs_background": "light"
     },
     "output_type": "display_data"
    }
   ],
   "source": [
    "\n",
    "# Draw a nested barplot to show expenditure next to sales\n",
    "ax1=sns.barplot(x=\"month\", y=\"amount\",\n",
    "            hue=\"sales/expenditure\", palette=[\"m\", \"g\",\"b\"],\n",
    "            data=df_long)\n",
    "sns.despine(offset=10, trim=True)\n",
    "plt.ylabel(\"amount (£)\")\n",
    "ax1.set_xlabel('month')\n",
    "ax1.set_ylabel(\"amount (£)\")\n",
    "ax1.tick_params(axis='y')\n",
    "# place the legend outside the figure/plot\n",
    "plt.legend(bbox_to_anchor=(1.01, 1.1),borderaxespad=2.2)\n",
    "plt.title(\"Sales and expenditure in 2018 \")\n",
    "ax2 = ax1.twinx()\n",
    "color = 'tab:red'\n",
    "ax2.set_ylabel('change in sales %')\n",
    "ax2 = sns.lineplot(x='month', y='change %', data = df_long, sort=False, color=color)\n",
    "ax2.tick_params(axis='y', color=color)"
   ]
  },
  {
   "cell_type": "markdown",
   "metadata": {
    "slideshow": {
     "slide_type": "subslide"
    }
   },
   "source": [
    "# what about net profit?"
   ]
  },
  {
   "cell_type": "code",
   "execution_count": 28,
   "metadata": {
    "scrolled": true,
    "slideshow": {
     "slide_type": "fragment"
    }
   },
   "outputs": [
    {
     "data": {
      "image/png": "[encoded data removed]",
      "text/plain": [
       "<Figure size 360x360 with 1 Axes>"
      ]
     },
     "metadata": {
      "needs_background": "light"
     },
     "output_type": "display_data"
    }
   ],
   "source": [
    "#creating a new variable\n",
    "df['profit']=(df['sales']-df['expenditure'])/1000\n",
    "\n",
    "#plot net profit\n",
    "f, ax = plt.subplots(figsize=(5, 5))\n",
    "# simple bar chart of net profit\n",
    "plot1=sns.barplot(x=\"month\", y=\"profit\", data=df,\n",
    "            label=\"net profit\", color=\"cadetblue\")\n",
    "plt.ylabel(\" net profit in £1000\")\n",
    "plt.show()"
   ]
  },
  {
   "cell_type": "markdown",
   "metadata": {
    "slideshow": {
     "slide_type": "slide"
    }
   },
   "source": [
    "# COVID-19: VACCINATION PROGRESS\n",
    "# \n",
    " - download a dataset from kaggle\n",
    " - download country/world boundaries data\n",
    " - merge the dataset to visualise the data as a map\n",
    " - use pandas and geopandas to plot data on a map\n",
    "    \n"
   ]
  },
  {
   "cell_type": "code",
   "execution_count": null,
   "metadata": {
    "slideshow": {
     "slide_type": "subslide"
    }
   },
   "outputs": [],
   "source": [
    "#! pip install researchpy\n",
    "#! pip install geopandas\n",
    "import pandas as pd\n",
    "import numpy as np\n",
    "import seaborn as sns\n",
    "import matplotlib.pyplot as plt\n",
    "import scipy.stats as stats\n",
    "import statsmodels.api as sm\n",
    "import researchpy as rp\n",
    "from statsmodels.formula.api import ols\n",
    "import plotly.graph_objects as go\n",
    "import geopandas\n",
    "\n",
    "#vaccination data\n",
    "vac_data=pd.read_csv(\"PycharmProjects\\pythonProject\\cfg-project\\sales.csv\")\n",
    "\n",
    "    #will display all rows when printed: I need this to see names of countries \n",
    "    #(UK or United kingdom or united_kingdom...you get the jist)\n",
    "#pd.set_option('display.max_rows', None) \n"
   ]
  },
  {
   "cell_type": "markdown",
   "metadata": {
    "slideshow": {
     "slide_type": "subslide"
    }
   },
   "source": [
    "# vaccination progress in UK"
   ]
  },
  {
   "cell_type": "code",
   "execution_count": null,
   "metadata": {
    "slideshow": {
     "slide_type": "fragment"
    }
   },
   "outputs": [],
   "source": [
    "#plot\n",
    "\n",
    "uk_countries=[\"England\", \"Scotland\", \"Wales\", \"Northern Ireland\", \"United Kingdom\"]\n",
    "\n",
    "subset_uk= vac_data[vac_data.country.isin(uk_countries)]\n",
    "subset_uk.shape\n",
    "\n",
    "subset_uk[\"people_vaccinated_permil\"] = subset_uk[\"people_vaccinated\"] * 0.000001\n",
    "\n",
    "sns.set_theme(style=\"whitegrid\")\n",
    "rs = np.random.RandomState(8)\n",
    "\n",
    "# Set up the matplotlib figure\n",
    "f, ax1 = plt.subplots(figsize=(7, 5))\n",
    "\n",
    "# Generate plot\n",
    "sns.barplot(x=\"country\", \n",
    "            y=\"people_vaccinated_permil\", \n",
    "            palette=\"colorblind\", \n",
    "            data=subset_uk,\n",
    "            label=\"people vaccinated\",\n",
    "            ax=ax1, \n",
    "            ci=None,\n",
    "            order=[\"United Kingdom\",\"England\", \"Scotland\", \"Wales\", \"Northern Ireland\"])\n",
    "ax1.set_ylabel(\"people vaccinated\")\n",
    "plt.title(\"Total number of vaccinated people in the UK (in millions)\")"
   ]
  },
  {
   "cell_type": "markdown",
   "metadata": {
    "slideshow": {
     "slide_type": "subslide"
    }
   },
   "source": [
    "![](uk_bar_total.png)"
   ]
  },
  {
   "cell_type": "code",
   "execution_count": 21,
   "metadata": {
    "slideshow": {
     "slide_type": "subslide"
    }
   },
   "outputs": [],
   "source": [
    "#uk people vaccinated per unit of population\n",
    "#use total number of people vaccinated per hundred\n",
    "\n",
    "\n",
    "subset_uk= vac_data[vac_data.country.isin(uk_countries)]\n",
    "subset_uk.shape\n",
    "\n",
    "sns.set_theme(style=\"whitegrid\")\n",
    "#vac_data.head()\n",
    "\n",
    "f, ax2 = plt.subplots(figsize=(7, 5))\n",
    "\n",
    "# Generate plot\n",
    "sns.barplot(x=\"country\", \n",
    "            y=\"people_vaccinated_per_hundred\", \n",
    "            palette=\"colorblind\", \n",
    "            data=subset_uk,\n",
    "            label=\"people vaccinated\",\n",
    "            ax=ax2, \n",
    "            ci=None,\n",
    "            order=[\"United Kingdom\",\"England\", \"Scotland\", \"Wales\", \"Northern Ireland\"])\n",
    "ax2.set_ylabel(\"% of population vaccinated\")\n",
    "plt.title(\"% of vaccinated people in the UK \")\n",
    "plt.ylim(0,100)"
   ]
  },
  {
   "cell_type": "markdown",
   "metadata": {
    "slideshow": {
     "slide_type": "subslide"
    }
   },
   "source": [
    "![](uk_bar_pop.png)"
   ]
  },
  {
   "cell_type": "markdown",
   "metadata": {
    "slideshow": {
     "slide_type": "subslide"
    }
   },
   "source": [
    "# How cool would it be to plot the data on a map?\n",
    "\n"
   ]
  },
  {
   "cell_type": "markdown",
   "metadata": {
    "slideshow": {
     "slide_type": "fragment"
    }
   },
   "source": [
    "<img src=\"bbc_map.png\" width=\"500\" height=\"500\" align=\"center\"/>"
   ]
  },
  {
   "cell_type": "code",
   "execution_count": null,
   "metadata": {
    "slideshow": {
     "slide_type": "subslide"
    }
   },
   "outputs": [],
   "source": [
    "# maps!\n",
    "#I have imported geopandas\n",
    "world = geopandas.read_file(geopandas.datasets.get_path('naturalearth_lowres'))\n",
    "\n",
    "#joining the datasets (map_df and data_vac)\n",
    "pd.set_option('display.max_columns', None)\n",
    "#rename column\n",
    "world['country']=world['name']\n",
    "\n",
    "merged = pd.merge(world,vac_data)"
   ]
  },
  {
   "cell_type": "markdown",
   "metadata": {
    "slideshow": {
     "slide_type": "subslide"
    }
   },
   "source": [
    "# % of population vaccinated"
   ]
  },
  {
   "cell_type": "code",
   "execution_count": null,
   "metadata": {
    "slideshow": {
     "slide_type": "subslide"
    }
   },
   "outputs": [],
   "source": [
    "#variable I want toplot\n",
    "variable = 'people_vaccinated_per_hundred'\n",
    "\n",
    "# set the range for the choropleth\n",
    "vmin, vmax = 0, 100\n",
    "\n",
    "fig, ax = plt.subplots(1, figsize=(20, 12))\n",
    "\n",
    "# create map\n",
    "merged.plot(column=variable, cmap='YlOrRd', linewidth=0.8, ax=ax, edgecolor='0.8')\n",
    "# Create colorbar as a legend\n",
    "sm = plt.cm.ScalarMappable(cmap='YlOrRd', norm=plt.Normalize(vmin=vmin, vmax=vmax))\n",
    "# empty array for the data range\n",
    "sm._A = []\n",
    "# add the colorbar to the figure\n",
    "cbar = fig.colorbar(sm)"
   ]
  },
  {
   "cell_type": "markdown",
   "metadata": {
    "slideshow": {
     "slide_type": "subslide"
    }
   },
   "source": [
    "![](world_vaccinated_pop.png)"
   ]
  },
  {
   "cell_type": "markdown",
   "metadata": {
    "slideshow": {
     "slide_type": "subslide"
    }
   },
   "source": [
    "# Europe"
   ]
  },
  {
   "cell_type": "code",
   "execution_count": null,
   "metadata": {
    "slideshow": {
     "slide_type": "fragment"
    }
   },
   "outputs": [],
   "source": [
    "# Only Europe\n",
    "Europe=merged[merged.continent == 'Europe']\n",
    "\n",
    "#variable I want toplot\n",
    "variable = 'people_vaccinated_per_hundred'\n",
    "\n",
    "# set the range for the choropleth\n",
    "vmin, vmax = 0, 100\n",
    "#range for x and y axes\n",
    "minx=-40 \n",
    "maxx=60\n",
    "miny=30\n",
    "maxy=90\n",
    "\n",
    "fig, ax = plt.subplots(1, figsize=(40, 24))\n",
    "\n"
   ]
  },
  {
   "cell_type": "code",
   "execution_count": null,
   "metadata": {
    "slideshow": {
     "slide_type": "subslide"
    }
   },
   "outputs": [],
   "source": [
    "# create map\n",
    "Europe.plot(column=variable, cmap='Blues', linewidth=0.8, ax=ax, edgecolor='0.9')\n",
    "ax.axis('on')\n",
    "ax.set_title('Percentage of European population vaccinated by country', \n",
    "             fontdict={'fontsize': '36', 'fontweight' : '6'})\n",
    "# create an annotation for the data source\n",
    "ax.annotate('Source: Our World in Data , dwonloaded 20/3/2021',\n",
    "            xy=(0.1, .08),  \n",
    "            xycoords='figure fraction', \n",
    "            horizontalalignment='left', \n",
    "            verticalalignment='top', \n",
    "            fontsize=20, \n",
    "            color='#555555')\n",
    "# Create colorbar as a legend\n",
    "sm = plt.cm.ScalarMappable(cmap='Blues', norm=plt.Normalize(vmin=vmin, vmax=vmax))\n",
    "# empty array for the data range\n",
    "sm._A = []\n",
    "# add the colorbar to the figure\n",
    "cbar = fig.colorbar(sm)\n",
    "ax.set_xlim(minx, maxx)\n",
    "ax.set_ylim(miny, maxy)"
   ]
  },
  {
   "cell_type": "markdown",
   "metadata": {
    "slideshow": {
     "slide_type": "subslide"
    }
   },
   "source": [
    "![](europe_pop.png)"
   ]
  },
  {
   "cell_type": "markdown",
   "metadata": {
    "slideshow": {
     "slide_type": "subslide"
    }
   },
   "source": [
    "# UK"
   ]
  },
  {
   "cell_type": "code",
   "execution_count": null,
   "metadata": {
    "slideshow": {
     "slide_type": "subslide"
    }
   },
   "outputs": [],
   "source": [
    "# UK only\n",
    "\n",
    "fp = \"/Countries_(December_2017)_Boundaries.shx\" \n",
    "uk_df = geopandas.read_file(fp)\n",
    "# 0=England, 1=Scotland, 2=Wales\n",
    "\n",
    "uk_df['country']=['England', 'Scotland', 'Wales']\n",
    "\n",
    "\n",
    "#joining the datasets (map_df and data_vac)\n",
    "\n",
    "\n",
    "uk_merged = pd.merge(uk_df,vac_data)\n",
    "\n"
   ]
  },
  {
   "cell_type": "code",
   "execution_count": null,
   "metadata": {
    "slideshow": {
     "slide_type": "subslide"
    }
   },
   "outputs": [],
   "source": [
    "#variable I want toplot\n",
    "variable = 'people_vaccinated_per_hundred'\n",
    "\n",
    "# set the range for the choropleth\n",
    "vmin, vmax = 0, 100\n",
    "#range for x and y axes\n",
    "# minx=-40 \n",
    "# maxx=60\n",
    "# miny=30\n",
    "# maxy=90\n",
    "\n",
    "fig, ax = plt.subplots(1, figsize=(20, 12))\n",
    "\n",
    "# create map\n",
    "uk_merged.plot(column=variable, cmap='Blues', linewidth=0.8, ax=ax, edgecolor='0.9')\n",
    "ax.axis('off')\n",
    "ax.set_title('Percentage of UK population vaccinated by country', \n",
    "             fontdict={'fontsize': '30', 'fontweight' : '6'},\n",
    "             horizontalalignment='center')\n",
    "# create an annotation for the data source\n",
    "ax.annotate('Source: Our World in Data , dwonloaded 20/3/2021',\n",
    "            xy=(0.5, .08),  \n",
    "            xycoords='figure fraction', \n",
    "            horizontalalignment='center', \n",
    "            verticalalignment='bottom', \n",
    "            fontsize=20, \n",
    "            color='#555555')\n",
    "# Create colorbar as a legend\n",
    "sm = plt.cm.ScalarMappable(cmap='Blues', norm=plt.Normalize(vmin=vmin, vmax=vmax))\n",
    "sm._A = []\n",
    "# add the colorbar to the figure\n",
    "cbar = fig.colorbar(sm)"
   ]
  },
  {
   "cell_type": "markdown",
   "metadata": {
    "slideshow": {
     "slide_type": "subslide"
    }
   },
   "source": [
    "![](uk_map_vac.png)"
   ]
  },
  {
   "cell_type": "markdown",
   "metadata": {
    "slideshow": {
     "slide_type": "slide"
    }
   },
   "source": [
    "![](end.png)"
   ]
  }
 ],
 "metadata": {
  "celltoolbar": "Slideshow",
  "kernelspec": {
   "display_name": "Python 3",
   "language": "python",
   "name": "python3"
  },
  "language_info": {
   "codemirror_mode": {
    "name": "ipython",
    "version": 3
   },
   "file_extension": ".py",
   "mimetype": "text/x-python",
   "name": "python",
   "nbconvert_exporter": "python",
   "pygments_lexer": "ipython3",
   "version": "3.7.3"
  }
 },
 "nbformat": 4,
 "nbformat_minor": 2
}
